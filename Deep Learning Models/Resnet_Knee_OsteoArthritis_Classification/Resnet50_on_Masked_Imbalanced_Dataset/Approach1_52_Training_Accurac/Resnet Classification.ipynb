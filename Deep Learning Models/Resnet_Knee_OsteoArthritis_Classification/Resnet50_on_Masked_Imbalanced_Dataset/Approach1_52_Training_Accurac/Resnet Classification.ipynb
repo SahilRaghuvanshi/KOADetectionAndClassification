{
 "cells": [
  {
   "cell_type": "code",
   "execution_count": 1,
   "id": "5cf27eea",
   "metadata": {},
   "outputs": [
    {
     "name": "stdout",
     "output_type": "stream",
     "text": [
      "Defaulting to user installation because normal site-packages is not writeable\n",
      "Requirement already satisfied: split_folders in c:\\users\\sahil\\appdata\\roaming\\python\\python311\\site-packages (0.5.1)\n"
     ]
    }
   ],
   "source": [
    "!pip install split_folders"
   ]
  },
  {
   "cell_type": "code",
   "execution_count": 6,
   "id": "bd4b0d72",
   "metadata": {},
   "outputs": [],
   "source": [
    "import splitfolders"
   ]
  },
  {
   "cell_type": "code",
   "execution_count": 8,
   "id": "018f041e",
   "metadata": {},
   "outputs": [
    {
     "name": "stderr",
     "output_type": "stream",
     "text": [
      "Copying files: 5686 files [00:33, 171.19 files/s]\n"
     ]
    }
   ],
   "source": [
    "input_folder=\"stage2_mask\"\n",
    "output=\"Knee_Mask_Dataset/processed_data\"\n",
    "splitfolders.ratio(input_folder,output, seed=42, ratio=(.7,.15,.15))"
   ]
  },
  {
   "cell_type": "code",
   "execution_count": 9,
   "id": "29238400",
   "metadata": {},
   "outputs": [],
   "source": [
    "from tensorflow.keras.layers import Conv2D, Flatten, Dense, MaxPool2D, BatchNormalization, GlobalAveragePooling2D\n",
    "from tensorflow.keras.applications.resnet50 import preprocess_input, decode_predictions\n",
    "from tensorflow.keras.preprocessing.image import ImageDataGenerator, load_img\n",
    "from tensorflow.keras.applications.resnet50 import ResNet50\n",
    "from tensorflow.keras.preprocessing import image\n",
    "from tensorflow.keras.models import Sequential\n",
    "from tensorflow.keras.models import Model\n",
    "import matplotlib.pyplot as plt\n",
    "import numpy as np"
   ]
  },
  {
   "cell_type": "code",
   "execution_count": 7,
   "id": "609b08c9",
   "metadata": {},
   "outputs": [],
   "source": [
    "img_height, img_width = (224, 224)\n",
    "batch_size = 32\n",
    "train_data_dir = r\"Knee_Mask_Dataset\\processed_data\\train\"\n",
    "valid_data_dir = r\"Knee_Mask_Dataset\\processed_data\\val\"\n",
    "test_data_dir = r\"Knee_Mask_Dataset\\processed_data\\test\""
   ]
  },
  {
   "cell_type": "code",
   "execution_count": 44,
   "id": "65936e42",
   "metadata": {},
   "outputs": [],
   "source": [
    "train_datagen = ImageDataGenerator(preprocessing_function=preprocess_input,\n",
    "  shear_range=0.2,\n",
    "  zoom_range=0.2,\n",
    "  horizontal_flip=True,\n",
    "  validation_split=0.4)"
   ]
  },
  {
   "cell_type": "code",
   "execution_count": 45,
   "id": "ff8bcbe4",
   "metadata": {},
   "outputs": [
    {
     "name": "stdout",
     "output_type": "stream",
     "text": [
      "Found 2389 images belonging to 5 classes.\n"
     ]
    }
   ],
   "source": [
    "train_generator = train_datagen.flow_from_directory(\n",
    "    train_data_dir,\n",
    "    target_size=(img_height, img_width),\n",
    "    batch_size=batch_size,\n",
    "    class_mode='categorical',\n",
    "    subset='training') # set as training data"
   ]
  },
  {
   "cell_type": "code",
   "execution_count": 46,
   "id": "c1cf2297",
   "metadata": {},
   "outputs": [
    {
     "name": "stdout",
     "output_type": "stream",
     "text": [
      "Found 338 images belonging to 5 classes.\n"
     ]
    }
   ],
   "source": [
    "valid_generator = train_datagen.flow_from_directory(\n",
    "    valid_data_dir,\n",
    "    target_size=(img_height, img_width),\n",
    "    batch_size=batch_size,\n",
    "    class_mode='categorical',\n",
    "    subset='validation')# set as validation data"
   ]
  },
  {
   "cell_type": "code",
   "execution_count": 47,
   "id": "6269cbee",
   "metadata": {},
   "outputs": [
    {
     "name": "stdout",
     "output_type": "stream",
     "text": [
      "Found 341 images belonging to 5 classes.\n"
     ]
    }
   ],
   "source": [
    "test_generator = train_datagen.flow_from_directory(\n",
    "    test_data_dir,\n",
    "    target_size=(img_height, img_width),\n",
    "    batch_size=1,\n",
    "    class_mode='categorical',\n",
    "    subset='validation')# set as validation data"
   ]
  },
  {
   "cell_type": "code",
   "execution_count": 48,
   "id": "e752473d",
   "metadata": {},
   "outputs": [
    {
     "data": {
      "text/plain": [
       "(1, 224, 224, 3)"
      ]
     },
     "execution_count": 48,
     "metadata": {},
     "output_type": "execute_result"
    }
   ],
   "source": [
    "x,y = test_generator.next()\n",
    "x.shape"
   ]
  },
  {
   "cell_type": "code",
   "execution_count": 49,
   "id": "b0286a5c",
   "metadata": {},
   "outputs": [],
   "source": [
    "base_model = ResNet50(include_top=False, weights='imagenet')\n",
    "x = base_model.output\n",
    "x = GlobalAveragePooling2D()(x)\n",
    "x = Dense(1024, activation='relu')(x)\n",
    "predictions = Dense(train_generator.num_classes, activation='softmax')(x)\n",
    "model = Model(inputs=base_model.input, outputs=predictions)\n",
    "for layer in base_model.layers:\n",
    "  layer.trainable = False"
   ]
  },
  {
   "cell_type": "code",
   "execution_count": 21,
   "id": "ada44550",
   "metadata": {
    "scrolled": false
   },
   "outputs": [
    {
     "name": "stdout",
     "output_type": "stream",
     "text": [
      "Epoch 1/100\n",
      "75/75 [==============================] - 174s 2s/step - loss: 1.3158 - accuracy: 0.4094\n",
      "Epoch 2/100\n",
      "75/75 [==============================] - 153s 2s/step - loss: 1.2773 - accuracy: 0.4395\n",
      "Epoch 3/100\n",
      "75/75 [==============================] - 142s 2s/step - loss: 1.2700 - accuracy: 0.4508\n",
      "Epoch 4/100\n",
      "75/75 [==============================] - 148s 2s/step - loss: 1.2529 - accuracy: 0.4496\n",
      "Epoch 5/100\n",
      "75/75 [==============================] - 141s 2s/step - loss: 1.2729 - accuracy: 0.4496\n",
      "Epoch 6/100\n",
      "75/75 [==============================] - 144s 2s/step - loss: 1.2502 - accuracy: 0.4546\n",
      "Epoch 7/100\n",
      "75/75 [==============================] - 143s 2s/step - loss: 1.2358 - accuracy: 0.4567\n",
      "Epoch 8/100\n",
      "75/75 [==============================] - 143s 2s/step - loss: 1.2336 - accuracy: 0.4617\n",
      "Epoch 9/100\n",
      "75/75 [==============================] - 142s 2s/step - loss: 1.2359 - accuracy: 0.4521\n",
      "Epoch 10/100\n",
      "75/75 [==============================] - 143s 2s/step - loss: 1.2215 - accuracy: 0.4621\n",
      "Epoch 11/100\n",
      "75/75 [==============================] - 142s 2s/step - loss: 1.2173 - accuracy: 0.4692\n",
      "Epoch 12/100\n",
      "75/75 [==============================] - 142s 2s/step - loss: 1.2167 - accuracy: 0.4705\n",
      "Epoch 13/100\n",
      "75/75 [==============================] - 143s 2s/step - loss: 1.2110 - accuracy: 0.4692\n",
      "Epoch 14/100\n",
      "75/75 [==============================] - 142s 2s/step - loss: 1.2044 - accuracy: 0.4805\n",
      "Epoch 15/100\n",
      "75/75 [==============================] - 142s 2s/step - loss: 1.2093 - accuracy: 0.4734\n",
      "Epoch 16/100\n",
      "75/75 [==============================] - 142s 2s/step - loss: 1.1890 - accuracy: 0.4768\n",
      "Epoch 17/100\n",
      "75/75 [==============================] - 144s 2s/step - loss: 1.1974 - accuracy: 0.4772\n",
      "Epoch 18/100\n",
      "75/75 [==============================] - 143s 2s/step - loss: 1.1939 - accuracy: 0.4726\n",
      "Epoch 19/100\n",
      "75/75 [==============================] - 142s 2s/step - loss: 1.1904 - accuracy: 0.4830\n",
      "Epoch 20/100\n",
      "75/75 [==============================] - 142s 2s/step - loss: 1.1896 - accuracy: 0.4759\n",
      "Epoch 21/100\n",
      "75/75 [==============================] - 142s 2s/step - loss: 1.2042 - accuracy: 0.4734\n",
      "Epoch 22/100\n",
      "75/75 [==============================] - 142s 2s/step - loss: 1.1858 - accuracy: 0.4897\n",
      "Epoch 23/100\n",
      "75/75 [==============================] - 144s 2s/step - loss: 1.1810 - accuracy: 0.4923\n",
      "Epoch 24/100\n",
      "75/75 [==============================] - 142s 2s/step - loss: 1.1841 - accuracy: 0.4797\n",
      "Epoch 25/100\n",
      "75/75 [==============================] - 142s 2s/step - loss: 1.1787 - accuracy: 0.4805\n",
      "Epoch 26/100\n",
      "75/75 [==============================] - 142s 2s/step - loss: 1.2034 - accuracy: 0.4676\n",
      "Epoch 27/100\n",
      "75/75 [==============================] - 143s 2s/step - loss: 1.1815 - accuracy: 0.4889\n",
      "Epoch 28/100\n",
      "75/75 [==============================] - 142s 2s/step - loss: 1.1825 - accuracy: 0.4860\n",
      "Epoch 29/100\n",
      "75/75 [==============================] - 143s 2s/step - loss: 1.1870 - accuracy: 0.4835\n",
      "Epoch 30/100\n",
      "75/75 [==============================] - 142s 2s/step - loss: 1.1733 - accuracy: 0.4780\n",
      "Epoch 31/100\n",
      "75/75 [==============================] - 143s 2s/step - loss: 1.1736 - accuracy: 0.4889\n",
      "Epoch 32/100\n",
      "75/75 [==============================] - 143s 2s/step - loss: 1.1780 - accuracy: 0.4780\n",
      "Epoch 33/100\n",
      "75/75 [==============================] - 143s 2s/step - loss: 1.1626 - accuracy: 0.4826\n",
      "Epoch 34/100\n",
      "75/75 [==============================] - 142s 2s/step - loss: 1.1614 - accuracy: 0.4889\n",
      "Epoch 35/100\n",
      "75/75 [==============================] - 142s 2s/step - loss: 1.1487 - accuracy: 0.4943\n",
      "Epoch 36/100\n",
      "75/75 [==============================] - 143s 2s/step - loss: 1.1623 - accuracy: 0.4990\n",
      "Epoch 37/100\n",
      "75/75 [==============================] - 142s 2s/step - loss: 1.1560 - accuracy: 0.5048\n",
      "Epoch 38/100\n",
      "75/75 [==============================] - 142s 2s/step - loss: 1.1619 - accuracy: 0.4902\n",
      "Epoch 39/100\n",
      "75/75 [==============================] - 143s 2s/step - loss: 1.1657 - accuracy: 0.4939\n",
      "Epoch 40/100\n",
      "75/75 [==============================] - 142s 2s/step - loss: 1.1463 - accuracy: 0.4902\n",
      "Epoch 41/100\n",
      "75/75 [==============================] - 142s 2s/step - loss: 1.1426 - accuracy: 0.4902\n",
      "Epoch 42/100\n",
      "75/75 [==============================] - 144s 2s/step - loss: 1.1427 - accuracy: 0.4998\n",
      "Epoch 43/100\n",
      "75/75 [==============================] - 143s 2s/step - loss: 1.1456 - accuracy: 0.4923\n",
      "Epoch 44/100\n",
      "75/75 [==============================] - 143s 2s/step - loss: 1.1385 - accuracy: 0.4935\n",
      "Epoch 45/100\n",
      "75/75 [==============================] - 142s 2s/step - loss: 1.1362 - accuracy: 0.5019\n",
      "Epoch 46/100\n",
      "75/75 [==============================] - 142s 2s/step - loss: 1.1397 - accuracy: 0.5107\n",
      "Epoch 47/100\n",
      "75/75 [==============================] - 142s 2s/step - loss: 1.1335 - accuracy: 0.5082\n",
      "Epoch 48/100\n",
      "75/75 [==============================] - 143s 2s/step - loss: 1.1352 - accuracy: 0.4990\n",
      "Epoch 49/100\n",
      "75/75 [==============================] - 142s 2s/step - loss: 1.1445 - accuracy: 0.4964\n",
      "Epoch 50/100\n",
      "75/75 [==============================] - 143s 2s/step - loss: 1.1382 - accuracy: 0.4956\n",
      "Epoch 51/100\n",
      "75/75 [==============================] - 142s 2s/step - loss: 1.1362 - accuracy: 0.5019\n",
      "Epoch 52/100\n",
      "75/75 [==============================] - 143s 2s/step - loss: 1.1195 - accuracy: 0.5015\n",
      "Epoch 53/100\n",
      "75/75 [==============================] - 142s 2s/step - loss: 1.1191 - accuracy: 0.5107\n",
      "Epoch 54/100\n",
      "75/75 [==============================] - 143s 2s/step - loss: 1.1168 - accuracy: 0.5006\n",
      "Epoch 55/100\n",
      "75/75 [==============================] - 143s 2s/step - loss: 1.1401 - accuracy: 0.5002\n",
      "Epoch 56/100\n",
      "75/75 [==============================] - 143s 2s/step - loss: 1.1342 - accuracy: 0.4969\n",
      "Epoch 57/100\n",
      "75/75 [==============================] - 142s 2s/step - loss: 1.1358 - accuracy: 0.4935\n",
      "Epoch 58/100\n",
      "75/75 [==============================] - 142s 2s/step - loss: 1.1277 - accuracy: 0.5006\n",
      "Epoch 59/100\n",
      "75/75 [==============================] - 142s 2s/step - loss: 1.1103 - accuracy: 0.5245\n",
      "Epoch 60/100\n",
      "75/75 [==============================] - 143s 2s/step - loss: 1.1127 - accuracy: 0.5132\n",
      "Epoch 61/100\n",
      "75/75 [==============================] - 144s 2s/step - loss: 1.0973 - accuracy: 0.5178\n",
      "Epoch 62/100\n",
      "75/75 [==============================] - 143s 2s/step - loss: 1.1153 - accuracy: 0.5128\n",
      "Epoch 63/100\n",
      "75/75 [==============================] - 143s 2s/step - loss: 1.1080 - accuracy: 0.5195\n",
      "Epoch 64/100\n",
      "75/75 [==============================] - 142s 2s/step - loss: 1.1106 - accuracy: 0.5061\n",
      "Epoch 65/100\n",
      "75/75 [==============================] - 143s 2s/step - loss: 1.1350 - accuracy: 0.5103\n",
      "Epoch 66/100\n",
      "75/75 [==============================] - 143s 2s/step - loss: 1.0920 - accuracy: 0.5195\n",
      "Epoch 67/100\n",
      "75/75 [==============================] - 143s 2s/step - loss: 1.1163 - accuracy: 0.5048\n",
      "Epoch 68/100\n",
      "75/75 [==============================] - 151s 2s/step - loss: 1.0958 - accuracy: 0.5329\n",
      "Epoch 69/100\n",
      "75/75 [==============================] - 144s 2s/step - loss: 1.1072 - accuracy: 0.5094\n",
      "Epoch 70/100\n",
      "75/75 [==============================] - 143s 2s/step - loss: 1.1099 - accuracy: 0.5111\n",
      "Epoch 71/100\n",
      "75/75 [==============================] - 143s 2s/step - loss: 1.0991 - accuracy: 0.5161\n",
      "Epoch 72/100\n",
      "75/75 [==============================] - 143s 2s/step - loss: 1.1174 - accuracy: 0.5094\n",
      "Epoch 73/100\n",
      "75/75 [==============================] - 143s 2s/step - loss: 1.0921 - accuracy: 0.5253\n",
      "Epoch 74/100\n",
      "75/75 [==============================] - 144s 2s/step - loss: 1.1202 - accuracy: 0.5052\n",
      "Epoch 75/100\n",
      "75/75 [==============================] - 144s 2s/step - loss: 1.0972 - accuracy: 0.5266\n",
      "Epoch 76/100\n",
      "75/75 [==============================] - 143s 2s/step - loss: 1.0809 - accuracy: 0.5266\n",
      "Epoch 77/100\n",
      "75/75 [==============================] - 146s 2s/step - loss: 1.0909 - accuracy: 0.5170\n",
      "Epoch 78/100\n",
      "75/75 [==============================] - 158s 2s/step - loss: 1.0929 - accuracy: 0.5216\n",
      "Epoch 79/100\n",
      "75/75 [==============================] - 167s 2s/step - loss: 1.1077 - accuracy: 0.5132\n",
      "Epoch 80/100\n",
      "75/75 [==============================] - 163s 2s/step - loss: 1.0791 - accuracy: 0.5358\n",
      "Epoch 81/100\n",
      "75/75 [==============================] - 157s 2s/step - loss: 1.0744 - accuracy: 0.5329\n",
      "Epoch 82/100\n",
      "75/75 [==============================] - 166s 2s/step - loss: 1.0941 - accuracy: 0.5241\n",
      "Epoch 83/100\n",
      "75/75 [==============================] - 162s 2s/step - loss: 1.0894 - accuracy: 0.5157\n",
      "Epoch 84/100\n",
      "75/75 [==============================] - 158s 2s/step - loss: 1.0847 - accuracy: 0.5207\n",
      "Epoch 85/100\n",
      "75/75 [==============================] - 179s 2s/step - loss: 1.0889 - accuracy: 0.5216\n",
      "Epoch 86/100\n",
      "75/75 [==============================] - 172s 2s/step - loss: 1.0883 - accuracy: 0.5228\n",
      "Epoch 87/100\n",
      "75/75 [==============================] - 160s 2s/step - loss: 1.0730 - accuracy: 0.5316\n",
      "Epoch 88/100\n",
      "75/75 [==============================] - 160s 2s/step - loss: 1.0723 - accuracy: 0.5224\n",
      "Epoch 89/100\n",
      "75/75 [==============================] - 159s 2s/step - loss: 1.0709 - accuracy: 0.5387\n",
      "Epoch 90/100\n",
      "75/75 [==============================] - 170s 2s/step - loss: 1.0789 - accuracy: 0.5303\n",
      "Epoch 91/100\n",
      "75/75 [==============================] - 221s 3s/step - loss: 1.0777 - accuracy: 0.5383\n",
      "Epoch 92/100\n",
      "75/75 [==============================] - 197s 3s/step - loss: 1.0780 - accuracy: 0.5350\n",
      "Epoch 93/100\n",
      "75/75 [==============================] - 206s 3s/step - loss: 1.0755 - accuracy: 0.5266\n",
      "Epoch 94/100\n",
      "75/75 [==============================] - 165s 2s/step - loss: 1.0725 - accuracy: 0.5262\n",
      "Epoch 95/100\n",
      "75/75 [==============================] - 193s 3s/step - loss: 1.0771 - accuracy: 0.5400\n",
      "Epoch 96/100\n",
      "75/75 [==============================] - 197s 3s/step - loss: 1.0574 - accuracy: 0.5412\n",
      "Epoch 97/100\n",
      "75/75 [==============================] - 212s 3s/step - loss: 1.0559 - accuracy: 0.5303\n",
      "Epoch 98/100\n",
      "75/75 [==============================] - 200s 3s/step - loss: 1.0586 - accuracy: 0.5383\n",
      "Epoch 99/100\n",
      "75/75 [==============================] - 184s 2s/step - loss: 1.0656 - accuracy: 0.5345\n",
      "Epoch 100/100\n",
      "75/75 [==============================] - 238s 3s/step - loss: 1.0826 - accuracy: 0.5232\n"
     ]
    },
    {
     "data": {
      "text/plain": [
       "<keras.src.callbacks.History at 0x29291bd0250>"
      ]
     },
     "execution_count": 21,
     "metadata": {},
     "output_type": "execute_result"
    }
   ],
   "source": [
    "model.compile(optimizer=\"adam\", loss=\"categorical_crossentropy\", metrics = ['accuracy'])\n",
    "model.fit(train_generator,epochs = 100)"
   ]
  },
  {
   "cell_type": "code",
   "execution_count": 94,
   "id": "5acc24b0",
   "metadata": {},
   "outputs": [],
   "source": [
    "import pickle\n",
    "with open('model_KOA_Resnet','wb') as f:\n",
    "    pickle.dump(model,f)"
   ]
  },
  {
   "cell_type": "code",
   "execution_count": 2,
   "id": "e40d943b",
   "metadata": {},
   "outputs": [],
   "source": [
    "import pickle\n",
    "with open('model_KOA_Resnet','rb') as f:\n",
    "    model = pickle.load(f)"
   ]
  },
  {
   "cell_type": "code",
   "execution_count": null,
   "id": "d91331be",
   "metadata": {},
   "outputs": [],
   "source": [
    "test_loss, test_acc = model.evaluate(test_generator, verbose=1)\n",
    "print('\\nTest accuracy',test_acc)"
   ]
  },
  {
   "cell_type": "code",
   "execution_count": 16,
   "id": "de517890",
   "metadata": {},
   "outputs": [],
   "source": [
    "import cv2"
   ]
  },
  {
   "cell_type": "code",
   "execution_count": 17,
   "id": "5e17a670",
   "metadata": {},
   "outputs": [],
   "source": [
    "image = cv2.imread('C:/Users/sahil/Unet Implementation/Knee Osteoarthritis Cartilage Segementation Using Unet/Knee_Mask_Dataset/processed_data/train/Grade4/9910391R.png')"
   ]
  },
  {
   "cell_type": "code",
   "execution_count": 18,
   "id": "fd546e75",
   "metadata": {},
   "outputs": [
    {
     "name": "stdout",
     "output_type": "stream",
     "text": [
      "(1, 224, 224, 3)\n"
     ]
    }
   ],
   "source": [
    "image_resized = cv2.resize(image, (img_height,img_width))\n",
    "image=np.expand_dims(image_resized,axis=0)\n",
    "print(image.shape)"
   ]
  },
  {
   "cell_type": "code",
   "execution_count": 19,
   "id": "b2571ba7",
   "metadata": {},
   "outputs": [
    {
     "name": "stdout",
     "output_type": "stream",
     "text": [
      "1/1 [==============================] - 1s 935ms/step\n",
      "[[0.25898114 0.26289123 0.28673235 0.06548575 0.12590958]]\n"
     ]
    }
   ],
   "source": [
    "pred=model.predict(image)\n",
    "print(pred)"
   ]
  },
  {
   "cell_type": "code",
   "execution_count": 20,
   "id": "4b5a175e",
   "metadata": {},
   "outputs": [],
   "source": [
    "class_names = [\"Grade 0\", \"Grade 1\", \"Grade 2\", \"Grade 3\", \"Grade 4\"]"
   ]
  },
  {
   "cell_type": "code",
   "execution_count": 21,
   "id": "0e5256ce",
   "metadata": {},
   "outputs": [
    {
     "name": "stdout",
     "output_type": "stream",
     "text": [
      "The predicted class is  Grade 2\n"
     ]
    }
   ],
   "source": [
    "output_class = class_names[np.argmax(pred)]\n",
    "print(\"The predicted class is \",output_class)"
   ]
  },
  {
   "cell_type": "code",
   "execution_count": null,
   "id": "99aa5bf1",
   "metadata": {},
   "outputs": [],
   "source": []
  }
 ],
 "metadata": {
  "kernelspec": {
   "display_name": "Python 3 (ipykernel)",
   "language": "python",
   "name": "python3"
  },
  "language_info": {
   "codemirror_mode": {
    "name": "ipython",
    "version": 3
   },
   "file_extension": ".py",
   "mimetype": "text/x-python",
   "name": "python",
   "nbconvert_exporter": "python",
   "pygments_lexer": "ipython3",
   "version": "3.11.5"
  }
 },
 "nbformat": 4,
 "nbformat_minor": 5
}
