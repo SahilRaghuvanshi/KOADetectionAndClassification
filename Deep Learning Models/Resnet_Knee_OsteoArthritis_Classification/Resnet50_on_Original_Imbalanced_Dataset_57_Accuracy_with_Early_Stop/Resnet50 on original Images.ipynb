{
 "cells": [
  {
   "cell_type": "markdown",
   "metadata": {},
   "source": [
    "# 2. Model Train"
   ]
  },
  {
   "cell_type": "markdown",
   "metadata": {},
   "source": [
    "## Model ResNet50"
   ]
  },
  {
   "cell_type": "markdown",
   "metadata": {},
   "source": [
    "### Import libraries"
   ]
  },
  {
   "cell_type": "code",
   "execution_count": 2,
   "metadata": {},
   "outputs": [],
   "source": [
    "import os\n",
    "import timeit\n",
    "\n",
    "import matplotlib.pyplot as plt\n",
    "import numpy as np\n",
    "import seaborn as sns\n",
    "import tensorflow as tf\n",
    "from sklearn.metrics import (accuracy_score, balanced_accuracy_score,\n",
    "                             classification_report, confusion_matrix)\n",
    "from sklearn.utils.class_weight import compute_class_weight"
   ]
  },
  {
   "cell_type": "code",
   "execution_count": null,
   "metadata": {},
   "outputs": [],
   "source": [
    "with open('model_Resnet50_on_Original_Images','rb') as f:\n",
    "    model = pickle.load(f)"
   ]
  },
  {
   "cell_type": "code",
   "execution_count": 3,
   "metadata": {},
   "outputs": [],
   "source": [
    "np.random.seed(12049)"
   ]
  },
  {
   "cell_type": "code",
   "execution_count": 29,
   "metadata": {},
   "outputs": [],
   "source": [
    "def get_plot_loss_acc(model, model_name):\n",
    "    fig = plt.figure()\n",
    "    plt.subplot(2, 1, 1)\n",
    "    plt.plot(model.history.history[\"loss\"])\n",
    "    plt.plot(model.history.history[\"val_loss\"])\n",
    "    plt.title(f\"{model_name} \\n\\n model loss\")\n",
    "    plt.ylabel(\"loss\")\n",
    "    plt.xlabel(\"epoch\")\n",
    "    plt.legend([\"train\", \"valid\"], loc=\"upper right\")\n",
    "\n",
    "    plt.subplot(2, 1, 2)\n",
    "    plt.plot(model.history.history[\"accuracy\"])\n",
    "    plt.plot(model.history.history[\"val_accuracy\"])\n",
    "    plt.title(\"model accuracy\")\n",
    "    plt.ylabel(\"accuracy\")\n",
    "    plt.xlabel(\"epoch\")\n",
    "    plt.legend([\"train\", \"valid\"], loc=\"lower right\")\n",
    "\n",
    "    plt.tight_layout()\n",
    "\n",
    "\n",
    "def compute_confusion_matrix(\n",
    "    ytrue, ypred, class_names, model_name\n",
    "):\n",
    "    cm = confusion_matrix(\n",
    "        y_true=ytrue.labels,\n",
    "        y_pred=np.argmax(ypred, axis=1),\n",
    "    )\n",
    "\n",
    "    cmn = cm.astype(\"float\") / cm.sum(axis=1)[:, np.newaxis]\n",
    "    plt.subplots(figsize=(6, 5))\n",
    "    sns.heatmap(\n",
    "        cmn,\n",
    "        annot=True,\n",
    "        fmt=\".2f\",\n",
    "        cmap=\"Purples\",\n",
    "        xticklabels=class_names,\n",
    "        yticklabels=class_names,\n",
    "    )\n",
    "    plt.title(f\"Confusion Matrix - {model_name}\")\n",
    "    plt.ylabel(\"Actual\")\n",
    "    plt.xlabel(\"Predicted\")\n",
    "    plt.show(block=False)\n",
    "\n",
    "\n",
    "def get_evaluate(data, name, model):\n",
    "    score_model = model.evaluate(data, verbose=1)\n",
    "    print(f\"{name} loss: {score_model[0]:.2f}\")\n",
    "    print(f\"{name} accuracy: {score_model[1]:.2f}\")\n",
    "\n",
    "\n",
    "def get_predict(data, model):\n",
    "    predict_model = model.predict(data)\n",
    "    return predict_model\n",
    "\n",
    "\n",
    "def get_metrics(y_test, y_pred, model_name):\n",
    "    acc = accuracy_score(y_test, y_pred)\n",
    "    bal_acc = balanced_accuracy_score(y_test, y_pred)\n",
    "\n",
    "    print(f\"Accuracy Score - {model_name}: {acc:.2f}\")\n",
    "    print(f\"Balanced Accuracy Score - {model_name}: {bal_acc:.2f}\")\n",
    "    print(\"\\n\")\n",
    "\n",
    "    print(classification_report(y_test, y_pred))"
   ]
  },
  {
   "cell_type": "markdown",
   "metadata": {},
   "source": [
    "### Load data"
   ]
  },
  {
   "cell_type": "code",
   "execution_count": 5,
   "metadata": {},
   "outputs": [],
   "source": [
    "train_path = r\"Knee_Dataset\\processed_data\\train\"\n",
    "valid_path = r\"Knee_Dataset\\processed_data\\val\"\n",
    "test_path = r\"Knee_Dataset\\processed_data\\test\""
   ]
  },
  {
   "cell_type": "markdown",
   "metadata": {},
   "source": [
    "### Definitions"
   ]
  },
  {
   "cell_type": "code",
   "execution_count": 6,
   "metadata": {},
   "outputs": [],
   "source": [
    "model_name = \"ResNet50\"\n",
    "class_names = ['Healthy', 'Doubtful', 'Minimal', 'Moderate', 'Severe']\n",
    "\n",
    "target_size = (224, 224)\n",
    "epochs = 100\n",
    "batch_size = 256\n",
    "img_shape = (224, 224, 3)\n",
    "\n",
    "# Save model\n",
    "save_model_ft = os.path.join('models', f'model_{model_name}_ft.hdf5')"
   ]
  },
  {
   "cell_type": "markdown",
   "metadata": {},
   "source": [
    "### Image data generator"
   ]
  },
  {
   "cell_type": "code",
   "execution_count": 7,
   "metadata": {},
   "outputs": [],
   "source": [
    "aug_datagen = tf.keras.preprocessing.image.ImageDataGenerator(\n",
    "    preprocessing_function=tf.keras.applications.resnet50.preprocess_input,\n",
    "    horizontal_flip=True,\n",
    "    brightness_range=[0.3, 0.8],\n",
    "    width_shift_range=[-50, 0, 50, 30, -30],\n",
    "    zoom_range=0.1,\n",
    "    fill_mode=\"nearest\",\n",
    ")\n",
    "\n",
    "noaug_datagen = tf.keras.preprocessing.image.ImageDataGenerator(\n",
    "    preprocessing_function=tf.keras.applications.resnet50.preprocess_input,\n",
    ")"
   ]
  },
  {
   "cell_type": "code",
   "execution_count": 8,
   "metadata": {},
   "outputs": [
    {
     "name": "stdout",
     "output_type": "stream",
     "text": [
      "Found 4546 images belonging to 5 classes.\n",
      "Found 566 images belonging to 5 classes.\n"
     ]
    }
   ],
   "source": [
    "train_generator = aug_datagen.flow_from_directory(\n",
    "    train_path, class_mode=\"categorical\", target_size=target_size, shuffle=True\n",
    ")\n",
    "\n",
    "valid_generator = noaug_datagen.flow_from_directory(\n",
    "    valid_path,\n",
    "    class_mode=\"categorical\",\n",
    "    target_size=target_size,\n",
    "    shuffle=False,\n",
    ")"
   ]
  },
  {
   "cell_type": "code",
   "execution_count": 9,
   "metadata": {},
   "outputs": [],
   "source": [
    "y_train = train_generator.labels\n",
    "y_val = valid_generator.labels"
   ]
  },
  {
   "cell_type": "markdown",
   "metadata": {},
   "source": [
    "### Weight data"
   ]
  },
  {
   "cell_type": "code",
   "execution_count": 10,
   "metadata": {},
   "outputs": [
    {
     "name": "stdout",
     "output_type": "stream",
     "text": [
      "Train:  {0: 1828, 1: 763, 2: 1212, 3: 605, 4: 138}\n",
      "{0: 0.4973741794310722, 1: 1.1916120576671034, 2: 0.7501650165016501, 3: 1.502809917355372, 4: 6.58840579710145}\n"
     ]
    }
   ],
   "source": [
    "unique, counts = np.unique(y_train, return_counts=True)\n",
    "print(\"Train: \", dict(zip(unique, counts)))\n",
    "\n",
    "class_weights = compute_class_weight(\n",
    "    class_weight=\"balanced\", classes=np.unique(y_train), y=y_train\n",
    ")\n",
    "train_class_weights = dict(enumerate(class_weights))\n",
    "print(train_class_weights)"
   ]
  },
  {
   "cell_type": "markdown",
   "metadata": {},
   "source": [
    "### Train data"
   ]
  },
  {
   "cell_type": "code",
   "execution_count": 11,
   "metadata": {},
   "outputs": [],
   "source": [
    "classes = np.unique(y_train)\n",
    "\n",
    "# Callbacks\n",
    "early = tf.keras.callbacks.EarlyStopping(\n",
    "            monitor='val_loss', min_delta=0.01, patience=8,\n",
    "            restore_best_weights=True\n",
    "        )\n",
    "plateau = tf.keras.callbacks.ReduceLROnPlateau(\n",
    "                monitor='loss', factor=0.1, min_delta=0.01, \n",
    "                min_lr=1e-10, patience=4, mode='auto'\n",
    "            )"
   ]
  },
  {
   "cell_type": "code",
   "execution_count": 12,
   "metadata": {},
   "outputs": [],
   "source": [
    "model = tf.keras.applications.ResNet50(\n",
    "    input_shape=(img_shape),\n",
    "    include_top=False,\n",
    "    weights=\"imagenet\",\n",
    ")"
   ]
  },
  {
   "cell_type": "markdown",
   "metadata": {},
   "source": [
    "### Fine-tuning"
   ]
  },
  {
   "cell_type": "code",
   "execution_count": 13,
   "metadata": {},
   "outputs": [
    {
     "name": "stdout",
     "output_type": "stream",
     "text": [
      "Model: \"sequential\"\n",
      "_________________________________________________________________\n",
      " Layer (type)                Output Shape              Param #   \n",
      "=================================================================\n",
      " resnet50 (Functional)       (None, 7, 7, 2048)        23587712  \n",
      "                                                                 \n",
      " global_average_pooling2d (  (None, 2048)              0         \n",
      " GlobalAveragePooling2D)                                         \n",
      "                                                                 \n",
      " dropout (Dropout)           (None, 2048)              0         \n",
      "                                                                 \n",
      " dense (Dense)               (None, 5)                 10245     \n",
      "                                                                 \n",
      "=================================================================\n",
      "Total params: 23597957 (90.02 MB)\n",
      "Trainable params: 23544837 (89.82 MB)\n",
      "Non-trainable params: 53120 (207.50 KB)\n",
      "_________________________________________________________________\n"
     ]
    }
   ],
   "source": [
    "for layer in model.layers:\n",
    "    layer.trainable = True\n",
    "\n",
    "model_ft = tf.keras.models.Sequential(\n",
    "    [\n",
    "        model,\n",
    "        tf.keras.layers.GlobalAveragePooling2D(),\n",
    "        tf.keras.layers.Dropout(0.2),\n",
    "        tf.keras.layers.Dense(5, activation=\"softmax\"),\n",
    "    ]\n",
    ")\n",
    "\n",
    "model_ft.summary()"
   ]
  },
  {
   "cell_type": "code",
   "execution_count": 14,
   "metadata": {},
   "outputs": [
    {
     "name": "stdout",
     "output_type": "stream",
     "text": [
      "Epoch 1/100\n",
      "143/143 [==============================] - 1455s 10s/step - loss: 1.6815 - accuracy: 0.2563 - val_loss: 22.7989 - val_accuracy: 0.4028 - lr: 0.0010\n",
      "Epoch 2/100\n",
      "143/143 [==============================] - 1444s 10s/step - loss: 1.2365 - accuracy: 0.3731 - val_loss: 18.4695 - val_accuracy: 0.1325 - lr: 0.0010\n",
      "Epoch 3/100\n",
      "143/143 [==============================] - 1454s 10s/step - loss: 1.1809 - accuracy: 0.3880 - val_loss: 4.5529 - val_accuracy: 0.1802 - lr: 0.0010\n",
      "Epoch 4/100\n",
      "143/143 [==============================] - 1443s 10s/step - loss: 1.0959 - accuracy: 0.4114 - val_loss: 1.4193 - val_accuracy: 0.4594 - lr: 0.0010\n",
      "Epoch 5/100\n",
      "143/143 [==============================] - 1428s 10s/step - loss: 1.0654 - accuracy: 0.4600 - val_loss: 1.3745 - val_accuracy: 0.4929 - lr: 0.0010\n",
      "Epoch 6/100\n",
      "143/143 [==============================] - 1729s 12s/step - loss: 1.0129 - accuracy: 0.4547 - val_loss: 2.4345 - val_accuracy: 0.4417 - lr: 0.0010\n",
      "Epoch 7/100\n",
      "143/143 [==============================] - 1815s 13s/step - loss: 0.9688 - accuracy: 0.4837 - val_loss: 1.9509 - val_accuracy: 0.4170 - lr: 0.0010\n",
      "Epoch 8/100\n",
      "143/143 [==============================] - 1456s 10s/step - loss: 0.9653 - accuracy: 0.4837 - val_loss: 1.1890 - val_accuracy: 0.3269 - lr: 0.0010\n",
      "Epoch 9/100\n",
      "143/143 [==============================] - 1419s 10s/step - loss: 0.9103 - accuracy: 0.5161 - val_loss: 1.1435 - val_accuracy: 0.5124 - lr: 0.0010\n",
      "Epoch 10/100\n",
      "143/143 [==============================] - 1590s 11s/step - loss: 0.8927 - accuracy: 0.5414 - val_loss: 1.3860 - val_accuracy: 0.5318 - lr: 0.0010\n",
      "Epoch 11/100\n",
      "143/143 [==============================] - 1471s 10s/step - loss: 0.8951 - accuracy: 0.5398 - val_loss: 1.0429 - val_accuracy: 0.5689 - lr: 0.0010\n",
      "Epoch 12/100\n",
      "143/143 [==============================] - 1464s 10s/step - loss: 0.8702 - accuracy: 0.5484 - val_loss: 1.9749 - val_accuracy: 0.3304 - lr: 0.0010\n",
      "Epoch 13/100\n",
      "143/143 [==============================] - 1451s 10s/step - loss: 0.8401 - accuracy: 0.5563 - val_loss: 1.8843 - val_accuracy: 0.4912 - lr: 0.0010\n",
      "Epoch 14/100\n",
      "143/143 [==============================] - 1465s 10s/step - loss: 0.8548 - accuracy: 0.5557 - val_loss: 2.7660 - val_accuracy: 0.4876 - lr: 0.0010\n",
      "Epoch 15/100\n",
      "143/143 [==============================] - 1626s 11s/step - loss: 0.8058 - accuracy: 0.5662 - val_loss: 1.8116 - val_accuracy: 0.3216 - lr: 0.0010\n",
      "Epoch 16/100\n",
      "143/143 [==============================] - 2022s 14s/step - loss: 0.8139 - accuracy: 0.5759 - val_loss: 1.0568 - val_accuracy: 0.5477 - lr: 0.0010\n",
      "Epoch 17/100\n",
      "143/143 [==============================] - 2280s 16s/step - loss: 0.8140 - accuracy: 0.5682 - val_loss: 1.9008 - val_accuracy: 0.2915 - lr: 0.0010\n",
      "Epoch 18/100\n",
      "143/143 [==============================] - 2052s 14s/step - loss: 0.8329 - accuracy: 0.5607 - val_loss: 1.7496 - val_accuracy: 0.3375 - lr: 0.0010\n",
      "Epoch 19/100\n",
      "143/143 [==============================] - 2203s 15s/step - loss: 0.7998 - accuracy: 0.5772 - val_loss: 2.7401 - val_accuracy: 0.2951 - lr: 0.0010\n"
     ]
    }
   ],
   "source": [
    "model_ft.compile(\n",
    "    optimizer=\"adam\", loss=\"categorical_crossentropy\", metrics=[\"accuracy\"]\n",
    ")\n",
    "\n",
    "start_ft = timeit.default_timer()\n",
    "\n",
    "history = model_ft.fit(\n",
    "    train_generator,\n",
    "    epochs=epochs,\n",
    "    batch_size=batch_size,\n",
    "    callbacks=[early, plateau],\n",
    "    validation_data=valid_generator,\n",
    "    class_weight=train_class_weights,\n",
    "    verbose=1,\n",
    ")\n",
    "\n",
    "stop_ft = timeit.default_timer()"
   ]
  },
  {
   "cell_type": "code",
   "execution_count": 30,
   "metadata": {},
   "outputs": [
    {
     "name": "stdout",
     "output_type": "stream",
     "text": [
      "Model ResNet50 fine tuning executed in 521.14 minutes\n"
     ]
    }
   ],
   "source": [
    "execution_time_ft = (stop_ft - start_ft) / 60\n",
    "print(\n",
    "    f\"Model {model_name} fine tuning executed in {execution_time_ft:.2f} minutes\"\n",
    ")"
   ]
  },
  {
   "cell_type": "code",
   "execution_count": 31,
   "metadata": {},
   "outputs": [],
   "source": [
    "import pickle\n",
    "with open('model_Resnet50_on_Original_Images','wb') as f:\n",
    "    pickle.dump(model,f)"
   ]
  },
  {
   "cell_type": "code",
   "execution_count": 33,
   "metadata": {},
   "outputs": [
    {
     "name": "stdout",
     "output_type": "stream",
     "text": [
      "18/18 [==============================] - 44s 2s/step - loss: 1.0429 - accuracy: 0.5689\n",
      "Valid loss: 1.04\n",
      "Valid accuracy: 0.57\n"
     ]
    }
   ],
   "source": [
    "get_evaluate(valid_generator, \"Valid\", model_ft)"
   ]
  },
  {
   "cell_type": "code",
   "execution_count": 34,
   "metadata": {},
   "outputs": [
    {
     "name": "stdout",
     "output_type": "stream",
     "text": [
      "18/18 [==============================] - 38s 2s/step\n",
      "Accuracy Score - ResNet50: 0.57\n",
      "Balanced Accuracy Score - ResNet50: 0.55\n",
      "\n",
      "\n",
      "              precision    recall  f1-score   support\n",
      "\n",
      "           0       0.59      0.89      0.71       228\n",
      "           1       0.21      0.05      0.08        95\n",
      "           2       0.60      0.35      0.44       151\n",
      "           3       0.59      0.64      0.61        75\n",
      "           4       0.44      0.82      0.57        17\n",
      "\n",
      "    accuracy                           0.57       566\n",
      "   macro avg       0.49      0.55      0.48       566\n",
      "weighted avg       0.53      0.57      0.52       566\n",
      "\n"
     ]
    }
   ],
   "source": [
    "predict_model_ft = get_predict(valid_generator, model_ft)\n",
    "\n",
    "get_metrics(\n",
    "    valid_generator.labels,\n",
    "    y_pred=np.argmax(predict_model_ft, axis=1),\n",
    "    model_name=model_name,\n",
    ")"
   ]
  },
  {
   "cell_type": "code",
   "execution_count": 35,
   "metadata": {},
   "outputs": [
    {
     "data": {
      "image/png": "[encoded data removed]",
      "text/plain": [
       "<Figure size 600x500 with 2 Axes>"
      ]
     },
     "metadata": {},
     "output_type": "display_data"
    }
   ],
   "source": [
    "compute_confusion_matrix(\n",
    "    valid_generator, predict_model_ft, class_names, f\"{model_name} Fine Tuning\"\n",
    ")"
   ]
  },
  {
   "cell_type": "code",
   "execution_count": 36,
   "metadata": {},
   "outputs": [],
   "source": [
    "import cv2"
   ]
  },
  {
   "cell_type": "code",
   "execution_count": 37,
   "metadata": {},
   "outputs": [],
   "source": [
    "image = cv2.imread('C:/Users/sahil/Unet Implementation/Knee Osteoarthritis Cartilage Segementation Using Unet/stage2_train/Grade4/9256759R.png')"
   ]
  },
  {
   "cell_type": "code",
   "execution_count": 39,
   "metadata": {},
   "outputs": [
    {
     "name": "stdout",
     "output_type": "stream",
     "text": [
      "(1, 224, 224, 3)\n"
     ]
    }
   ],
   "source": [
    "image_resized = cv2.resize(image, (224,224))\n",
    "image=np.expand_dims(image_resized,axis=0)\n",
    "print(image.shape)"
   ]
  },
  {
   "cell_type": "code",
   "execution_count": 40,
   "metadata": {},
   "outputs": [],
   "source": [
    "class_names = [\"Grade 0\", \"Grade 1\", \"Grade 2\", \"Grade 3\", \"Grade 4\"]"
   ]
  },
  {
   "cell_type": "code",
   "execution_count": 49,
   "metadata": {},
   "outputs": [
    {
     "name": "stdout",
     "output_type": "stream",
     "text": [
      "1/1 [==============================] - 1s 972ms/step\n"
     ]
    }
   ],
   "source": [
    "pred=model_ft.predict(image)"
   ]
  },
  {
   "cell_type": "code",
   "execution_count": 50,
   "metadata": {},
   "outputs": [
    {
     "name": "stdout",
     "output_type": "stream",
     "text": [
      "[[0.00735058 0.00611334 0.01082691 0.09842487 0.8772843 ]]\n"
     ]
    }
   ],
   "source": [
    "print(pred)"
   ]
  },
  {
   "cell_type": "code",
   "execution_count": 51,
   "metadata": {},
   "outputs": [
    {
     "name": "stdout",
     "output_type": "stream",
     "text": [
      "The predicted class is  Grade 4\n"
     ]
    }
   ],
   "source": [
    "output_class = class_names[np.argmax(pred)]\n",
    "print(\"The predicted class is \",output_class)"
   ]
  },
  {
   "cell_type": "code",
   "execution_count": null,
   "metadata": {},
   "outputs": [],
   "source": []
  }
 ],
 "metadata": {
  "kernelspec": {
   "display_name": "Python 3 (ipykernel)",
   "language": "python",
   "name": "python3"
  },
  "language_info": {
   "codemirror_mode": {
    "name": "ipython",
    "version": 3
   },
   "file_extension": ".py",
   "mimetype": "text/x-python",
   "name": "python",
   "nbconvert_exporter": "python",
   "pygments_lexer": "ipython3",
   "version": "3.11.5"
  },
  "vscode": {
   "interpreter": {
    "hash": "001b8bc8317430c417f51a69a56c6a56085f077c2a95b1214783d5193c7f8f41"
   }
  }
 },
 "nbformat": 4,
 "nbformat_minor": 2
}
