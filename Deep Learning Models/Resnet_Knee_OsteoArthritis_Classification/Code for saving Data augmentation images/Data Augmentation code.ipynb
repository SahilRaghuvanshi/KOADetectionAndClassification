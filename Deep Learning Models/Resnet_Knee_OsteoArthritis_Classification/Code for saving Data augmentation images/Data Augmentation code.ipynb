{
 "cells": [
  {
   "cell_type": "code",
   "execution_count": 26,
   "id": "16a439a4",
   "metadata": {},
   "outputs": [
    {
     "name": "stdout",
     "output_type": "stream",
     "text": [
      "max_images 2799\n",
      "Grade0\n",
      "C:/Users/sahil/Unet Implementation/Knee Osteoarthritis Cartilage Segementation Using Unet/training_data/Grade0\n",
      "2799\n",
      "Grade1\n",
      "C:/Users/sahil/Unet Implementation/Knee Osteoarthritis Cartilage Segementation Using Unet/training_data/Grade1\n",
      "1431\n",
      "Grade2\n",
      "C:/Users/sahil/Unet Implementation/Knee Osteoarthritis Cartilage Segementation Using Unet/training_data/Grade2\n",
      "1748\n",
      "Grade3\n",
      "C:/Users/sahil/Unet Implementation/Knee Osteoarthritis Cartilage Segementation Using Unet/training_data/Grade3\n",
      "978\n",
      "Grade4\n",
      "C:/Users/sahil/Unet Implementation/Knee Osteoarthritis Cartilage Segementation Using Unet/training_data/Grade4\n",
      "373\n",
      "Data augmentation and balancing completed.\n"
     ]
    }
   ],
   "source": [
    "import os\n",
    "import shutil\n",
    "import numpy as np\n",
    "import tensorflow as tf\n",
    "\n",
    "# Define directories\n",
    "base_dir = 'C:/Users/sahil/Unet Implementation/Knee Osteoarthritis Cartilage Segementation Using Unet/training_data/'\n",
    "output_dir = 'C:/Users/sahil/Unet Implementation/Knee Osteoarthritis Cartilage Segementation Using Unet/training_data_revised/'\n",
    "\n",
    "# Create output directory if it doesn't exist\n",
    "if not os.path.exists(output_dir):\n",
    "    os.makedirs(output_dir)\n",
    "\n",
    "# Function to count images in each class\n",
    "def count_images(directory):\n",
    "    counts = {}\n",
    "    for subdir in os.listdir(directory):\n",
    "        if os.path.isdir(os.path.join(directory, subdir)):\n",
    "            counts[subdir] = len(os.listdir(os.path.join(directory, subdir)))\n",
    "    return counts\n",
    "\n",
    "# Find maximum number of images among all classes\n",
    "max_images = max(count_images(base_dir).values())\n",
    "\n",
    "print(\"max_images\",max_images)\n",
    "# Loop through each class directory\n",
    "for class_name in os.listdir(base_dir):\n",
    "    \n",
    "    print(class_name)\n",
    "    class_dir = os.path.join(base_dir, class_name)\n",
    "    print(class_dir)\n",
    "    \n",
    "    # Skip if it's not a directory\n",
    "    if not os.path.isdir(class_dir):\n",
    "        continue\n",
    "    \n",
    "    # Create a new directory in the output directory\n",
    "    output_class_dir = os.path.join(output_dir, class_name)\n",
    "    os.makedirs(output_class_dir, exist_ok=True)\n",
    "    \n",
    "    for file_name in os.listdir(class_dir):\n",
    "        shutil.copy(os.path.join(class_dir, file_name), output_class_dir)\n",
    "    # Count images in the current class\n",
    "    num_images = len(os.listdir(class_dir))\n",
    "    print(num_images);\n",
    "    \n",
    "    # Augment images to match the maximum number\n",
    "    num_augmented_images = max_images - num_images\n",
    "\n",
    "print(\"Data augmentation and balancing completed.\")"
   ]
  },
  {
   "cell_type": "code",
   "execution_count": 30,
   "id": "f4ae3b01",
   "metadata": {},
   "outputs": [
    {
     "name": "stdout",
     "output_type": "stream",
     "text": [
      "Found 373 images belonging to 1 classes.\n",
      "executed\n"
     ]
    }
   ],
   "source": [
    "image_generator = aug_datagen.flow_from_directory(\n",
    "    directory='C:/Users/sahil/Unet Implementation/Knee Osteoarthritis Cartilage Segementation Using Unet/trainData/Grade4',\n",
    "    target_size=(224, 224),  # Set your target size here\n",
    "    batch_size=1,\n",
    "    save_to_dir='C:/Users/sahil/Unet Implementation/Knee Osteoarthritis Cartilage Segementation Using Unet/training_data_revised/Grade4',\n",
    "    save_prefix='',\n",
    "    save_format='png',\n",
    "    shuffle=True,  # Set shuffle to False\n",
    "    color_mode='grayscale'  # Set color_mode to 'grayscale'\n",
    ")\n",
    "print(\"executed\")\n",
    "for _ in range(2426):\n",
    "    next(image_generator)"
   ]
  },
  {
   "cell_type": "code",
   "execution_count": null,
   "id": "ae1a38da",
   "metadata": {},
   "outputs": [],
   "source": []
  }
 ],
 "metadata": {
  "kernelspec": {
   "display_name": "Python 3 (ipykernel)",
   "language": "python",
   "name": "python3"
  },
  "language_info": {
   "codemirror_mode": {
    "name": "ipython",
    "version": 3
   },
   "file_extension": ".py",
   "mimetype": "text/x-python",
   "name": "python",
   "nbconvert_exporter": "python",
   "pygments_lexer": "ipython3",
   "version": "3.11.5"
  }
 },
 "nbformat": 4,
 "nbformat_minor": 5
}
